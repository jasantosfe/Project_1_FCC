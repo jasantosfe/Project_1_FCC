{
 "cells": [
  {
   "cell_type": "code",
   "execution_count": 26,
   "id": "e7b24eb1-033b-4197-b9dd-61541f9352ef",
   "metadata": {},
   "outputs": [
    {
     "name": "stdout",
     "output_type": "stream",
     "text": [
      "Ahora estás trabajando en: C:\\Projects_FCC\\Data Analysis with Python\n"
     ]
    }
   ],
   "source": [
    "import os\n",
    "os.chdir(\"C:/Projects_FCC/Data Analysis with Python\")  # Cambiar directorio en Jupyter\n",
    "\n",
    "# Verificar el nuevo directorio\n",
    "print(\"Ahora estás trabajando en:\", os.getcwd())\n"
   ]
  },
  {
   "cell_type": "code",
   "execution_count": null,
   "id": "eb2ebfd6-bf0a-46c6-8102-95561a0fc8ee",
   "metadata": {},
   "outputs": [],
   "source": [
    "# import os\n",
    "# print(\"Carpeta actual:\", os.getcwd())  # Verificar directorio\n",
    "# print(\"Archivos y carpetas en el directorio actual:\", os.listdir())  # Mostrar contenido\n"
   ]
  },
  {
   "cell_type": "code",
   "execution_count": null,
   "id": "cb01f620-39b5-4670-b6c2-6431058d874f",
   "metadata": {},
   "outputs": [],
   "source": [
    "# with open(\"test_file.txt\", \"w\") as file:\n",
    "#     file.write(\"Este es un archivo de prueba en la ubicación correcta.\")\n",
    "\n",
    "# print(\"Archivo guardado en:\", os.path.abspath(\"test_file.txt\"))\n"
   ]
  },
  {
   "cell_type": "code",
   "execution_count": 27,
   "id": "cfb28fe5-e10e-42a0-bae9-d5a113f486b5",
   "metadata": {},
   "outputs": [],
   "source": [
    "import numpy as np\n",
    "import pandas as pd\n",
    "from mean_var_std import calculate"
   ]
  },
  {
   "cell_type": "code",
   "execution_count": null,
   "id": "9e153c21-8810-4de7-954b-c15f5583de73",
   "metadata": {},
   "outputs": [],
   "source": [
    "# import importlib\n",
    "# import mean_var_std\n",
    "# importlib.reload(mean_var_std)\n",
    "# from mean_var_std import calculate"
   ]
  },
  {
   "cell_type": "code",
   "execution_count": 28,
   "id": "2ca9fb70-9b2e-40e5-bffd-3d543539caf2",
   "metadata": {
    "scrolled": true
   },
   "outputs": [
    {
     "name": "stdin",
     "output_type": "stream",
     "text": [
      "Ingrese un número (1/9):  0\n",
      "Ingrese un número (2/9):  1\n",
      "Ingrese un número (3/9):  2\n",
      "Ingrese un número (4/9):  3\n",
      "Ingrese un número (5/9):  4\n",
      "Ingrese un número (6/9):  5\n",
      "Ingrese un número (7/9):  6\n",
      "Ingrese un número (8/9):  7\n",
      "Ingrese un número (9/9):  8\n"
     ]
    },
    {
     "name": "stdout",
     "output_type": "stream",
     "text": [
      "\n",
      "Matriz 3x3 de números ingresados:\n"
     ]
    },
    {
     "data": {
      "text/html": [
       "<div>\n",
       "<style scoped>\n",
       "    .dataframe tbody tr th:only-of-type {\n",
       "        vertical-align: middle;\n",
       "    }\n",
       "\n",
       "    .dataframe tbody tr th {\n",
       "        vertical-align: top;\n",
       "    }\n",
       "\n",
       "    .dataframe thead th {\n",
       "        text-align: right;\n",
       "    }\n",
       "</style>\n",
       "<table border=\"1\" class=\"dataframe\">\n",
       "  <thead>\n",
       "    <tr style=\"text-align: right;\">\n",
       "      <th></th>\n",
       "      <th>0</th>\n",
       "      <th>1</th>\n",
       "      <th>2</th>\n",
       "    </tr>\n",
       "  </thead>\n",
       "  <tbody>\n",
       "    <tr>\n",
       "      <th>0</th>\n",
       "      <td>0.0</td>\n",
       "      <td>1.0</td>\n",
       "      <td>2.0</td>\n",
       "    </tr>\n",
       "    <tr>\n",
       "      <th>1</th>\n",
       "      <td>3.0</td>\n",
       "      <td>4.0</td>\n",
       "      <td>5.0</td>\n",
       "    </tr>\n",
       "    <tr>\n",
       "      <th>2</th>\n",
       "      <td>6.0</td>\n",
       "      <td>7.0</td>\n",
       "      <td>8.0</td>\n",
       "    </tr>\n",
       "  </tbody>\n",
       "</table>\n",
       "</div>"
      ],
      "text/plain": [
       "     0    1    2\n",
       "0  0.0  1.0  2.0\n",
       "1  3.0  4.0  5.0\n",
       "2  6.0  7.0  8.0"
      ]
     },
     "metadata": {},
     "output_type": "display_data"
    }
   ],
   "source": [
    "from IPython.display import display\n",
    "\n",
    "def get_nine_numbers():\n",
    "    numbers = []  \n",
    "\n",
    "    while len(numbers) < 9:\n",
    "        try:\n",
    "            num = float(input(f\"Ingrese un número ({len(numbers) + 1}/9): \"))  \n",
    "            numbers.append(num)  \n",
    "        except ValueError:\n",
    "            print(\"Entrada inválida. Por favor, ingrese un número válido.\")  \n",
    "    \n",
    "    # Convertir la lista en un DataFrame 3x3 para visualización\n",
    "    df = pd.DataFrame([numbers[i:i+3] for i in range(0, 9, 3)])\n",
    "    \n",
    "    return df, numbers  \n",
    "\n",
    "# Ejecutar la función para obtener la matriz\n",
    "df_numbers, numbers_list = get_nine_numbers()\n",
    "print(\"\\nMatriz 3x3 de números ingresados:\")\n",
    "display(df_numbers)  # En Jupyter usamos display()\n"
   ]
  },
  {
   "cell_type": "code",
   "execution_count": 29,
   "id": "b8b6fdb5-a7b0-4b7a-856a-13165de703ac",
   "metadata": {},
   "outputs": [
    {
     "name": "stdout",
     "output_type": "stream",
     "text": [
      "\n",
      "Estadísticas calculadas:\n"
     ]
    },
    {
     "data": {
      "text/html": [
       "<div>\n",
       "<style scoped>\n",
       "    .dataframe tbody tr th:only-of-type {\n",
       "        vertical-align: middle;\n",
       "    }\n",
       "\n",
       "    .dataframe tbody tr th {\n",
       "        vertical-align: top;\n",
       "    }\n",
       "\n",
       "    .dataframe thead th {\n",
       "        text-align: right;\n",
       "    }\n",
       "</style>\n",
       "<table border=\"1\" class=\"dataframe\">\n",
       "  <thead>\n",
       "    <tr style=\"text-align: right;\">\n",
       "      <th></th>\n",
       "      <th>Por columna</th>\n",
       "      <th>Por fila</th>\n",
       "      <th>Toda la matriz</th>\n",
       "    </tr>\n",
       "  </thead>\n",
       "  <tbody>\n",
       "    <tr>\n",
       "      <th>mean</th>\n",
       "      <td>[3.0, 4.0, 5.0]</td>\n",
       "      <td>[1.0, 4.0, 7.0]</td>\n",
       "      <td>4.000000</td>\n",
       "    </tr>\n",
       "    <tr>\n",
       "      <th>variance</th>\n",
       "      <td>[6.0, 6.0, 6.0]</td>\n",
       "      <td>[0.6666666666666666, 0.6666666666666666, 0.666...</td>\n",
       "      <td>6.666667</td>\n",
       "    </tr>\n",
       "    <tr>\n",
       "      <th>standard deviation</th>\n",
       "      <td>[2.449489742783178, 2.449489742783178, 2.44948...</td>\n",
       "      <td>[0.816496580927726, 0.816496580927726, 0.81649...</td>\n",
       "      <td>2.581989</td>\n",
       "    </tr>\n",
       "    <tr>\n",
       "      <th>max</th>\n",
       "      <td>[6.0, 7.0, 8.0]</td>\n",
       "      <td>[2.0, 5.0, 8.0]</td>\n",
       "      <td>8.000000</td>\n",
       "    </tr>\n",
       "    <tr>\n",
       "      <th>min</th>\n",
       "      <td>[0.0, 1.0, 2.0]</td>\n",
       "      <td>[0.0, 3.0, 6.0]</td>\n",
       "      <td>0.000000</td>\n",
       "    </tr>\n",
       "    <tr>\n",
       "      <th>sum</th>\n",
       "      <td>[9.0, 12.0, 15.0]</td>\n",
       "      <td>[3.0, 12.0, 21.0]</td>\n",
       "      <td>36.000000</td>\n",
       "    </tr>\n",
       "  </tbody>\n",
       "</table>\n",
       "</div>"
      ],
      "text/plain": [
       "                                                          Por columna  \\\n",
       "mean                                                  [3.0, 4.0, 5.0]   \n",
       "variance                                              [6.0, 6.0, 6.0]   \n",
       "standard deviation  [2.449489742783178, 2.449489742783178, 2.44948...   \n",
       "max                                                   [6.0, 7.0, 8.0]   \n",
       "min                                                   [0.0, 1.0, 2.0]   \n",
       "sum                                                 [9.0, 12.0, 15.0]   \n",
       "\n",
       "                                                             Por fila  \\\n",
       "mean                                                  [1.0, 4.0, 7.0]   \n",
       "variance            [0.6666666666666666, 0.6666666666666666, 0.666...   \n",
       "standard deviation  [0.816496580927726, 0.816496580927726, 0.81649...   \n",
       "max                                                   [2.0, 5.0, 8.0]   \n",
       "min                                                   [0.0, 3.0, 6.0]   \n",
       "sum                                                 [3.0, 12.0, 21.0]   \n",
       "\n",
       "                    Toda la matriz  \n",
       "mean                      4.000000  \n",
       "variance                  6.666667  \n",
       "standard deviation        2.581989  \n",
       "max                       8.000000  \n",
       "min                       0.000000  \n",
       "sum                      36.000000  "
      ]
     },
     "metadata": {},
     "output_type": "display_data"
    }
   ],
   "source": [
    "# Llamar a calculate() y mostrar resultados\n",
    "result = calculate(numbers_list)\n",
    "\n",
    "# Convertir el diccionario en un DataFrame\n",
    "df_stats = pd.DataFrame.from_dict(result, orient='index', columns=['Por columna', 'Por fila', 'Toda la matriz'])\n",
    "\n",
    "# Mostrar el DataFrame con las estadísticas en Jupyter\n",
    "print(\"\\nEstadísticas calculadas:\")\n",
    "display(df_stats)  # En Jupyter usamos display()\n"
   ]
  },
  {
   "cell_type": "code",
   "execution_count": 30,
   "id": "56a88e57-69af-4a73-8893-cb8cadce458f",
   "metadata": {},
   "outputs": [
    {
     "name": "stderr",
     "output_type": "stream",
     "text": [
      "..\n",
      "----------------------------------------------------------------------\n",
      "Ran 2 tests in 0.010s\n",
      "\n",
      "OK\n"
     ]
    },
    {
     "data": {
      "text/plain": [
       "<unittest.runner.TextTestResult run=2 errors=0 failures=0>"
      ]
     },
     "execution_count": 30,
     "metadata": {},
     "output_type": "execute_result"
    }
   ],
   "source": [
    "import unittest\n",
    "import numpy as np\n",
    "import random\n",
    "from mean_var_std import calculate\n",
    "\n",
    "class TestCalculate(unittest.TestCase):\n",
    "    def test_manual_inputs(self):\n",
    "        \"\"\" Prueba con valores fijos para validación manual \"\"\"\n",
    "        input_data = [0, 1, 2, 3, 4, 5, 6, 7, 8]\n",
    "        expected_output = {\n",
    "            'mean': [[3.0, 4.0, 5.0], [1.0, 4.0, 7.0], 4.0],\n",
    "            'variance': [[6.0, 6.0, 6.0], [0.6666666666666666, 0.6666666666666666, 0.6666666666666666], 6.666666666666667],\n",
    "            'standard deviation': [[2.449489742783178, 2.449489742783178, 2.449489742783178], [0.816496580927726, 0.816496580927726, 0.816496580927726], 2.581988897471611],\n",
    "            'max': [[6, 7, 8], [2, 5, 8], 8],\n",
    "            'min': [[0, 1, 2], [0, 3, 6], 0],\n",
    "            'sum': [[9, 12, 15], [3, 12, 21], 36]\n",
    "        }\n",
    "        self.assertEqual(calculate(input_data), expected_output)\n",
    "\n",
    "    def test_random_inputs(self):\n",
    "        \"\"\" Prueba con 30 conjuntos de datos aleatorios \"\"\"\n",
    "        for i in range(30):\n",
    "            input_data = random.sample(range(-100, 100), 9)  # 9 números aleatorios entre -100 y 100\n",
    "            result = calculate(input_data)\n",
    "\n",
    "            # Validar que el resultado tiene la estructura correcta\n",
    "            self.assertTrue(isinstance(result, dict), f\"Error en iteración {i}: No es un diccionario.\")\n",
    "            self.assertEqual(len(result), 6, f\"Error en iteración {i}: Faltan claves en el diccionario.\")\n",
    "            \n",
    "            for key in result:\n",
    "                self.assertEqual(len(result[key]), 3, f\"Error en iteración {i}: {key} no tiene 3 elementos.\")\n",
    "                self.assertTrue(all(isinstance(x, list) for x in result[key][:2]), f\"Error en iteración {i}: {key} no tiene listas en las dos primeras posiciones.\")\n",
    "                self.assertTrue(isinstance(result[key][2], (int, float)), f\"Error en iteración {i}: {key} en la tercera posición no es un número.\")\n",
    "\n",
    "# Ejecutar pruebas en Jupyter\n",
    "unittest.TextTestRunner().run(unittest.TestLoader().loadTestsFromTestCase(TestCalculate))\n"
   ]
  },
  {
   "cell_type": "code",
   "execution_count": null,
   "id": "b71a4ec1-efa0-41bd-871e-4e4982f5b766",
   "metadata": {},
   "outputs": [],
   "source": [
    "# import os\n",
    "# print(os.listdir())  # Lista los archivos en el directorio actual\n"
   ]
  },
  {
   "cell_type": "code",
   "execution_count": null,
   "id": "f384a6d0-112d-4ee0-be90-50c344202482",
   "metadata": {},
   "outputs": [],
   "source": [
    "# import os\n",
    "# print(os.getcwd())  # Muestra el directorio actual\n",
    "# print(os.listdir())  # Lista los archivos en el directorio actual\n"
   ]
  }
 ],
 "metadata": {
  "kernelspec": {
   "display_name": "Python 3 (ipykernel)",
   "language": "python",
   "name": "python3"
  },
  "language_info": {
   "codemirror_mode": {
    "name": "ipython",
    "version": 3
   },
   "file_extension": ".py",
   "mimetype": "text/x-python",
   "name": "python",
   "nbconvert_exporter": "python",
   "pygments_lexer": "ipython3",
   "version": "3.13.0"
  }
 },
 "nbformat": 4,
 "nbformat_minor": 5
}
